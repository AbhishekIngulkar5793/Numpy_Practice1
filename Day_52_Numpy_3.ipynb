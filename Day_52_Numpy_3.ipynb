{
 "cells": [
  {
   "cell_type": "code",
   "execution_count": 1,
   "id": "80781536",
   "metadata": {},
   "outputs": [],
   "source": [
    "import numpy as np"
   ]
  },
  {
   "cell_type": "code",
   "execution_count": 2,
   "id": "f512714d",
   "metadata": {},
   "outputs": [
    {
     "data": {
      "text/plain": [
       "array([[ True,  True,  True,  True],\n",
       "       [ True,  True,  True,  True],\n",
       "       [ True,  True,  True,  True],\n",
       "       [ True,  True,  True,  True]])"
      ]
     },
     "execution_count": 2,
     "metadata": {},
     "output_type": "execute_result"
    }
   ],
   "source": [
    "# I want 4x4 numpy array whhose all values set to true \n",
    "np.full((4,4), fill_value=True)"
   ]
  },
  {
   "cell_type": "code",
   "execution_count": 3,
   "id": "cef60635",
   "metadata": {},
   "outputs": [
    {
     "data": {
      "text/plain": [
       "array([[ True,  True,  True,  True],\n",
       "       [ True,  True,  True,  True],\n",
       "       [ True,  True,  True,  True],\n",
       "       [ True,  True,  True,  True]])"
      ]
     },
     "execution_count": 3,
     "metadata": {},
     "output_type": "execute_result"
    }
   ],
   "source": [
    "np.ones((4,4), dtype=bool)"
   ]
  },
  {
   "cell_type": "code",
   "execution_count": 4,
   "id": "fdd764d6",
   "metadata": {},
   "outputs": [
    {
     "data": {
      "text/plain": [
       "array([[False, False, False, False],\n",
       "       [False, False, False, False],\n",
       "       [False, False, False, False],\n",
       "       [False, False, False, False]])"
      ]
     },
     "execution_count": 4,
     "metadata": {},
     "output_type": "execute_result"
    }
   ],
   "source": [
    "# I want 4x4 numpy array whose all values set to False\n",
    "np.full((4,4), fill_value=False)"
   ]
  },
  {
   "cell_type": "code",
   "execution_count": 5,
   "id": "0b101e04",
   "metadata": {},
   "outputs": [
    {
     "data": {
      "text/plain": [
       "array([[False, False, False, False],\n",
       "       [False, False, False, False],\n",
       "       [False, False, False, False],\n",
       "       [False, False, False, False]])"
      ]
     },
     "execution_count": 5,
     "metadata": {},
     "output_type": "execute_result"
    }
   ],
   "source": [
    "np.zeros((4,4), dtype=bool)"
   ]
  },
  {
   "cell_type": "code",
   "execution_count": 6,
   "id": "cfbc18d9",
   "metadata": {},
   "outputs": [
    {
     "data": {
      "text/plain": [
       "array([[ True, False, False, False],\n",
       "       [False,  True, False, False],\n",
       "       [False, False,  True, False],\n",
       "       [False, False, False,  True]])"
      ]
     },
     "execution_count": 6,
     "metadata": {},
     "output_type": "execute_result"
    }
   ],
   "source": [
    "# Now, I want 4x4 numppy array whose diagonal values are set to True and non-diagonal values to False\n",
    "np.identity(4,dtype=bool)"
   ]
  },
  {
   "cell_type": "code",
   "execution_count": 7,
   "id": "fd8df607",
   "metadata": {},
   "outputs": [
    {
     "data": {
      "text/plain": [
       "array([[ True, False, False, False],\n",
       "       [False,  True, False, False],\n",
       "       [False, False,  True, False],\n",
       "       [False, False, False,  True]])"
      ]
     },
     "execution_count": 7,
     "metadata": {},
     "output_type": "execute_result"
    }
   ],
   "source": [
    "np.eye(4,dtype=bool)"
   ]
  },
  {
   "cell_type": "code",
   "execution_count": 8,
   "id": "24e49393",
   "metadata": {},
   "outputs": [
    {
     "data": {
      "text/plain": [
       "array([[False,  True,  True,  True],\n",
       "       [ True, False,  True,  True],\n",
       "       [ True,  True, False,  True],\n",
       "       [ True,  True,  True, False]])"
      ]
     },
     "execution_count": 8,
     "metadata": {},
     "output_type": "execute_result"
    }
   ],
   "source": [
    "#Assignment: I want 4x4 numpy array whose diagonal value set to False and non diagonal True\n",
    "~np.identity(4,dtype=bool)"
   ]
  },
  {
   "cell_type": "markdown",
   "id": "5e0f5248",
   "metadata": {},
   "source": [
    "## Check different properties of numpy array"
   ]
  },
  {
   "cell_type": "code",
   "execution_count": 9,
   "id": "9e7c461d",
   "metadata": {},
   "outputs": [],
   "source": [
    "a = np.random.random((4,4))"
   ]
  },
  {
   "cell_type": "code",
   "execution_count": 10,
   "id": "b031885d",
   "metadata": {},
   "outputs": [
    {
     "data": {
      "text/plain": [
       "array([[0.83825568, 0.56444137, 0.75492952, 0.60682561],\n",
       "       [0.37515507, 0.23800999, 0.24324307, 0.32894522],\n",
       "       [0.61066947, 0.54393083, 0.11806239, 0.6479753 ],\n",
       "       [0.79730048, 0.60447705, 0.41368138, 0.41436823]])"
      ]
     },
     "execution_count": 10,
     "metadata": {},
     "output_type": "execute_result"
    }
   ],
   "source": [
    "a\n"
   ]
  },
  {
   "cell_type": "code",
   "execution_count": 11,
   "id": "c871ab15",
   "metadata": {},
   "outputs": [
    {
     "data": {
      "text/plain": [
       "16"
      ]
     },
     "execution_count": 11,
     "metadata": {},
     "output_type": "execute_result"
    }
   ],
   "source": [
    "# total elements present \n",
    "a.size"
   ]
  },
  {
   "cell_type": "code",
   "execution_count": 12,
   "id": "66bdd0f7",
   "metadata": {},
   "outputs": [
    {
     "data": {
      "text/plain": [
       "(4, 4)"
      ]
     },
     "execution_count": 12,
     "metadata": {},
     "output_type": "execute_result"
    }
   ],
   "source": [
    "# check shape\n",
    "a.shape"
   ]
  },
  {
   "cell_type": "code",
   "execution_count": 13,
   "id": "fbf6ad18",
   "metadata": {},
   "outputs": [],
   "source": [
    "#(4, 4) 4 rows, 4 columns  "
   ]
  },
  {
   "cell_type": "code",
   "execution_count": 14,
   "id": "0ce6243c",
   "metadata": {},
   "outputs": [
    {
     "name": "stdout",
     "output_type": "stream",
     "text": [
      "Total number of rows 4\n",
      "Total number of columns 4\n"
     ]
    }
   ],
   "source": [
    "print('Total number of rows',a.shape[0])\n",
    "print('Total number of columns',a.shape[1])"
   ]
  },
  {
   "cell_type": "code",
   "execution_count": 15,
   "id": "4f3594c5",
   "metadata": {},
   "outputs": [
    {
     "data": {
      "text/plain": [
       "8"
      ]
     },
     "execution_count": 15,
     "metadata": {},
     "output_type": "execute_result"
    }
   ],
   "source": [
    "# memory in bytes to each element\n",
    "a.itemsize"
   ]
  },
  {
   "cell_type": "code",
   "execution_count": 16,
   "id": "c182ed3b",
   "metadata": {},
   "outputs": [
    {
     "data": {
      "text/plain": [
       "dtype('float64')"
      ]
     },
     "execution_count": 16,
     "metadata": {},
     "output_type": "execute_result"
    }
   ],
   "source": [
    "# check datatype \n",
    "a.dtype"
   ]
  },
  {
   "cell_type": "code",
   "execution_count": 17,
   "id": "6d4eb263",
   "metadata": {},
   "outputs": [
    {
     "data": {
      "text/plain": [
       "<memory at 0x00000270E51D7AD0>"
      ]
     },
     "execution_count": 17,
     "metadata": {},
     "output_type": "execute_result"
    }
   ],
   "source": [
    "# check a memory \n",
    "a.data"
   ]
  },
  {
   "cell_type": "code",
   "execution_count": 18,
   "id": "4b97f0f6",
   "metadata": {},
   "outputs": [
    {
     "data": {
      "text/plain": [
       "2"
      ]
     },
     "execution_count": 18,
     "metadata": {},
     "output_type": "execute_result"
    }
   ],
   "source": [
    "# check dimension \n",
    "a.ndim"
   ]
  },
  {
   "cell_type": "code",
   "execution_count": 19,
   "id": "d94d8b91",
   "metadata": {},
   "outputs": [],
   "source": [
    "# 2 means 2Dimensional "
   ]
  },
  {
   "cell_type": "markdown",
   "id": "bda74357",
   "metadata": {},
   "source": [
    "## Shape manipulation "
   ]
  },
  {
   "cell_type": "code",
   "execution_count": 20,
   "id": "4d862f12",
   "metadata": {},
   "outputs": [
    {
     "name": "stdout",
     "output_type": "stream",
     "text": [
      "[[0.83825568 0.56444137 0.75492952 0.60682561]\n",
      " [0.37515507 0.23800999 0.24324307 0.32894522]\n",
      " [0.61066947 0.54393083 0.11806239 0.6479753 ]\n",
      " [0.79730048 0.60447705 0.41368138 0.41436823]]\n",
      "[[0.83825568 0.56444137 0.75492952 0.60682561]\n",
      " [0.37515507 0.23800999 0.24324307 0.32894522]\n",
      " [0.61066947 0.54393083 0.11806239 0.6479753 ]\n",
      " [0.79730048 0.60447705 0.41368138 0.41436823]]\n",
      "Abhishek\n"
     ]
    }
   ],
   "source": [
    "print(a)\n",
    "print(a)\n",
    "print('Abhishek')"
   ]
  },
  {
   "cell_type": "code",
   "execution_count": 21,
   "id": "a0402179",
   "metadata": {},
   "outputs": [
    {
     "data": {
      "text/plain": [
       "array([[0.83825568, 0.56444137, 0.75492952, 0.60682561],\n",
       "       [0.37515507, 0.23800999, 0.24324307, 0.32894522],\n",
       "       [0.61066947, 0.54393083, 0.11806239, 0.6479753 ],\n",
       "       [0.79730048, 0.60447705, 0.41368138, 0.41436823]])"
      ]
     },
     "metadata": {},
     "output_type": "display_data"
    },
    {
     "data": {
      "text/plain": [
       "array([[0.83825568, 0.56444137, 0.75492952, 0.60682561],\n",
       "       [0.37515507, 0.23800999, 0.24324307, 0.32894522],\n",
       "       [0.61066947, 0.54393083, 0.11806239, 0.6479753 ],\n",
       "       [0.79730048, 0.60447705, 0.41368138, 0.41436823]])"
      ]
     },
     "metadata": {},
     "output_type": "display_data"
    },
    {
     "data": {
      "text/plain": [
       "'Abhi'"
      ]
     },
     "metadata": {},
     "output_type": "display_data"
    }
   ],
   "source": [
    "display(a,a,'Abhi')"
   ]
  },
  {
   "cell_type": "code",
   "execution_count": 22,
   "id": "3f2e0988",
   "metadata": {},
   "outputs": [
    {
     "data": {
      "text/plain": [
       "(4, 4)"
      ]
     },
     "execution_count": 22,
     "metadata": {},
     "output_type": "execute_result"
    }
   ],
   "source": [
    "# shape\n",
    "a.shape"
   ]
  },
  {
   "cell_type": "code",
   "execution_count": 23,
   "id": "5cb23538",
   "metadata": {},
   "outputs": [],
   "source": [
    "# (4, 4) means 4rows x 4columns = 16 elements\n",
    "# for making a 2D array, we have following different options whose multiplication returns 16 \n",
    "#(1, 16)\n",
    "#(2, 8)\n",
    "#(8, 2)\n",
    "#(4, 4)\n",
    "#(16, 1)\n",
    "# for making an 3D array from 16 elements we have options like: \n",
    "#(1,4,4) # 1*4*4=16\n",
    "#(2,2,4) # 2*2*4=16\n",
    "#(4,2,2) # 4*2*2=16"
   ]
  },
  {
   "cell_type": "markdown",
   "id": "1241a483",
   "metadata": {},
   "source": [
    "## reshape(): It changes the shape temporarily "
   ]
  },
  {
   "cell_type": "code",
   "execution_count": 24,
   "id": "4d367fcd",
   "metadata": {},
   "outputs": [
    {
     "data": {
      "text/plain": [
       "array([[0.83825568, 0.56444137, 0.75492952, 0.60682561, 0.37515507,\n",
       "        0.23800999, 0.24324307, 0.32894522, 0.61066947, 0.54393083,\n",
       "        0.11806239, 0.6479753 , 0.79730048, 0.60447705, 0.41368138,\n",
       "        0.41436823]])"
      ]
     },
     "execution_count": 24,
     "metadata": {},
     "output_type": "execute_result"
    }
   ],
   "source": [
    "a.reshape(1,16)"
   ]
  },
  {
   "cell_type": "code",
   "execution_count": 25,
   "id": "90cc8987",
   "metadata": {},
   "outputs": [
    {
     "data": {
      "text/plain": [
       "array([[0.83825568, 0.56444137, 0.75492952, 0.60682561, 0.37515507,\n",
       "        0.23800999, 0.24324307, 0.32894522],\n",
       "       [0.61066947, 0.54393083, 0.11806239, 0.6479753 , 0.79730048,\n",
       "        0.60447705, 0.41368138, 0.41436823]])"
      ]
     },
     "execution_count": 25,
     "metadata": {},
     "output_type": "execute_result"
    }
   ],
   "source": [
    "a.reshape(2, 8)"
   ]
  },
  {
   "cell_type": "code",
   "execution_count": 26,
   "id": "8b306f4e",
   "metadata": {},
   "outputs": [
    {
     "data": {
      "text/plain": [
       "array([[0.83825568, 0.56444137],\n",
       "       [0.75492952, 0.60682561],\n",
       "       [0.37515507, 0.23800999],\n",
       "       [0.24324307, 0.32894522],\n",
       "       [0.61066947, 0.54393083],\n",
       "       [0.11806239, 0.6479753 ],\n",
       "       [0.79730048, 0.60447705],\n",
       "       [0.41368138, 0.41436823]])"
      ]
     },
     "execution_count": 26,
     "metadata": {},
     "output_type": "execute_result"
    }
   ],
   "source": [
    "a.reshape(8, 2)"
   ]
  },
  {
   "cell_type": "code",
   "execution_count": 28,
   "id": "8fb18823",
   "metadata": {},
   "outputs": [
    {
     "data": {
      "text/plain": [
       "array([[[0.83825568, 0.56444137, 0.75492952, 0.60682561],\n",
       "        [0.37515507, 0.23800999, 0.24324307, 0.32894522],\n",
       "        [0.61066947, 0.54393083, 0.11806239, 0.6479753 ],\n",
       "        [0.79730048, 0.60447705, 0.41368138, 0.41436823]]])"
      ]
     },
     "execution_count": 28,
     "metadata": {},
     "output_type": "execute_result"
    }
   ],
   "source": [
    "# 3D using reshape \n",
    "a.reshape(1,4,4)"
   ]
  },
  {
   "cell_type": "code",
   "execution_count": 29,
   "id": "0a1c32ea",
   "metadata": {},
   "outputs": [
    {
     "data": {
      "text/plain": [
       "array([[[0.83825568, 0.56444137, 0.75492952, 0.60682561],\n",
       "        [0.37515507, 0.23800999, 0.24324307, 0.32894522]],\n",
       "\n",
       "       [[0.61066947, 0.54393083, 0.11806239, 0.6479753 ],\n",
       "        [0.79730048, 0.60447705, 0.41368138, 0.41436823]]])"
      ]
     },
     "execution_count": 29,
     "metadata": {},
     "output_type": "execute_result"
    }
   ],
   "source": [
    "a.reshape(2,2,4)"
   ]
  },
  {
   "cell_type": "code",
   "execution_count": null,
   "id": "3eda3517",
   "metadata": {},
   "outputs": [],
   "source": []
  }
 ],
 "metadata": {
  "kernelspec": {
   "display_name": "Python 3 (ipykernel)",
   "language": "python",
   "name": "python3"
  },
  "language_info": {
   "codemirror_mode": {
    "name": "ipython",
    "version": 3
   },
   "file_extension": ".py",
   "mimetype": "text/x-python",
   "name": "python",
   "nbconvert_exporter": "python",
   "pygments_lexer": "ipython3",
   "version": "3.9.13"
  }
 },
 "nbformat": 4,
 "nbformat_minor": 5
}
