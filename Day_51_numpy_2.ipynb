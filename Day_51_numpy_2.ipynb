{
 "cells": [
  {
   "cell_type": "markdown",
   "id": "eca159df",
   "metadata": {},
   "source": [
    "## Numpy array creation"
   ]
  },
  {
   "cell_type": "code",
   "execution_count": 1,
   "id": "7426d4a1",
   "metadata": {},
   "outputs": [],
   "source": [
    "import numpy as np"
   ]
  },
  {
   "cell_type": "markdown",
   "id": "dfd762e9",
   "metadata": {},
   "source": [
    "### arange()"
   ]
  },
  {
   "cell_type": "code",
   "execution_count": 2,
   "id": "4006d01e",
   "metadata": {},
   "outputs": [
    {
     "data": {
      "text/plain": [
       "array([0, 1, 2, 3, 4, 5])"
      ]
     },
     "execution_count": 2,
     "metadata": {},
     "output_type": "execute_result"
    }
   ],
   "source": [
    "np.arange(6)"
   ]
  },
  {
   "cell_type": "code",
   "execution_count": 3,
   "id": "643a5b87",
   "metadata": {},
   "outputs": [
    {
     "data": {
      "text/plain": [
       "array([ 1,  2,  3,  4,  5,  6,  7,  8,  9, 10])"
      ]
     },
     "execution_count": 3,
     "metadata": {},
     "output_type": "execute_result"
    }
   ],
   "source": [
    "np.arange(1,11)"
   ]
  },
  {
   "cell_type": "code",
   "execution_count": 4,
   "id": "3440aa06",
   "metadata": {},
   "outputs": [
    {
     "data": {
      "text/plain": [
       "array([ 2,  4,  6,  8, 10, 12, 14, 16, 18, 20])"
      ]
     },
     "execution_count": 4,
     "metadata": {},
     "output_type": "execute_result"
    }
   ],
   "source": [
    "# stepping\n",
    "np.arange(2,21,2)"
   ]
  },
  {
   "cell_type": "markdown",
   "id": "d00d4260",
   "metadata": {},
   "source": [
    "## zeros(): arrays with all zeros"
   ]
  },
  {
   "cell_type": "code",
   "execution_count": 5,
   "id": "3d22d350",
   "metadata": {},
   "outputs": [
    {
     "data": {
      "text/plain": [
       "array([0., 0., 0., 0., 0.])"
      ]
     },
     "execution_count": 5,
     "metadata": {},
     "output_type": "execute_result"
    }
   ],
   "source": [
    "\"\"\"\n",
    "zeros(shape,dtype=float,order='c',*,like=none)\n",
    "returns a new array of given shape and type, filled with zeros.\n",
    "\"\"\"\n",
    "np.zeros(5)"
   ]
  },
  {
   "cell_type": "code",
   "execution_count": 7,
   "id": "2f4a55b1",
   "metadata": {},
   "outputs": [
    {
     "data": {
      "text/plain": [
       "array([[0., 0., 0., 0., 0., 0.],\n",
       "       [0., 0., 0., 0., 0., 0.]])"
      ]
     },
     "execution_count": 7,
     "metadata": {},
     "output_type": "execute_result"
    }
   ],
   "source": [
    "# 2D array\n",
    "np.zeros((2,6))"
   ]
  },
  {
   "cell_type": "code",
   "execution_count": 8,
   "id": "3fb78164",
   "metadata": {},
   "outputs": [
    {
     "data": {
      "text/plain": [
       "array([[[0., 0., 0., 0., 0., 0., 0.],\n",
       "        [0., 0., 0., 0., 0., 0., 0.],\n",
       "        [0., 0., 0., 0., 0., 0., 0.]],\n",
       "\n",
       "       [[0., 0., 0., 0., 0., 0., 0.],\n",
       "        [0., 0., 0., 0., 0., 0., 0.],\n",
       "        [0., 0., 0., 0., 0., 0., 0.]]])"
      ]
     },
     "execution_count": 8,
     "metadata": {},
     "output_type": "execute_result"
    }
   ],
   "source": [
    "# 3D array\n",
    "np.zeros((2,3,7))"
   ]
  },
  {
   "cell_type": "code",
   "execution_count": 10,
   "id": "ef5d79f3",
   "metadata": {},
   "outputs": [
    {
     "data": {
      "text/plain": [
       "array([[0, 0, 0, 0, 0, 0],\n",
       "       [0, 0, 0, 0, 0, 0]])"
      ]
     },
     "execution_count": 10,
     "metadata": {},
     "output_type": "execute_result"
    }
   ],
   "source": [
    "# if i want integer zero then?\n",
    "np.zeros((2,6), dtype=int)"
   ]
  },
  {
   "cell_type": "markdown",
   "id": "c2c69ac9",
   "metadata": {},
   "source": [
    "## ones(): all 1's in array"
   ]
  },
  {
   "cell_type": "code",
   "execution_count": 12,
   "id": "8f7a0ee4",
   "metadata": {},
   "outputs": [
    {
     "data": {
      "text/plain": [
       "array([1., 1., 1.])"
      ]
     },
     "execution_count": 12,
     "metadata": {},
     "output_type": "execute_result"
    }
   ],
   "source": [
    "np.ones(3)"
   ]
  },
  {
   "cell_type": "code",
   "execution_count": 13,
   "id": "3a7766cf",
   "metadata": {},
   "outputs": [
    {
     "data": {
      "text/plain": [
       "array([[1., 1., 1.],\n",
       "       [1., 1., 1.]])"
      ]
     },
     "execution_count": 13,
     "metadata": {},
     "output_type": "execute_result"
    }
   ],
   "source": [
    "np.ones((2,3))"
   ]
  },
  {
   "cell_type": "code",
   "execution_count": 15,
   "id": "7c62a20e",
   "metadata": {},
   "outputs": [
    {
     "data": {
      "text/plain": [
       "array([[[1, 1, 1, 1, 1, 1],\n",
       "        [1, 1, 1, 1, 1, 1],\n",
       "        [1, 1, 1, 1, 1, 1],\n",
       "        [1, 1, 1, 1, 1, 1]],\n",
       "\n",
       "       [[1, 1, 1, 1, 1, 1],\n",
       "        [1, 1, 1, 1, 1, 1],\n",
       "        [1, 1, 1, 1, 1, 1],\n",
       "        [1, 1, 1, 1, 1, 1]],\n",
       "\n",
       "       [[1, 1, 1, 1, 1, 1],\n",
       "        [1, 1, 1, 1, 1, 1],\n",
       "        [1, 1, 1, 1, 1, 1],\n",
       "        [1, 1, 1, 1, 1, 1]]])"
      ]
     },
     "execution_count": 15,
     "metadata": {},
     "output_type": "execute_result"
    }
   ],
   "source": [
    "np.ones((3,4,6), dtype=int) # for convertinng from float to integer vallue i.e. 1 "
   ]
  },
  {
   "cell_type": "markdown",
   "id": "2b3dbeea",
   "metadata": {},
   "source": [
    "## empty array"
   ]
  },
  {
   "cell_type": "code",
   "execution_count": 19,
   "id": "b1372823",
   "metadata": {},
   "outputs": [
    {
     "data": {
      "text/plain": [
       "array([[0.00000000e+000, 0.00000000e+000],\n",
       "       [0.00000000e+000, 0.00000000e+000],\n",
       "       [0.00000000e+000, 9.58487353e-321],\n",
       "       [8.01097888e-307, 8.01094493e-307]])"
      ]
     },
     "execution_count": 19,
     "metadata": {},
     "output_type": "execute_result"
    }
   ],
   "source": [
    "np.empty((4,2)) # it returns garbage values "
   ]
  },
  {
   "cell_type": "code",
   "execution_count": 20,
   "id": "22229271",
   "metadata": {},
   "outputs": [
    {
     "data": {
      "text/plain": [
       "array([[['', '', '', '', ''],\n",
       "        ['', '', '', '', ''],\n",
       "        ['', '', '', '', ''],\n",
       "        ['', '', '', '', '']],\n",
       "\n",
       "       [['', '', '', '', ''],\n",
       "        ['', '', '', '', ''],\n",
       "        ['', '', '', '', ''],\n",
       "        ['', '', '', '', '']],\n",
       "\n",
       "       [['', '', '', '', ''],\n",
       "        ['', '', '', '', ''],\n",
       "        ['', '', '', '', ''],\n",
       "        ['', '', '', '', '']]], dtype='<U1')"
      ]
     },
     "execution_count": 20,
     "metadata": {},
     "output_type": "execute_result"
    }
   ],
   "source": [
    "np.empty((3,4,5), dtype=str)"
   ]
  },
  {
   "cell_type": "markdown",
   "id": "0f179066",
   "metadata": {},
   "source": [
    "## supply own value in array"
   ]
  },
  {
   "cell_type": "code",
   "execution_count": 21,
   "id": "52c1bd71",
   "metadata": {},
   "outputs": [],
   "source": [
    "# signature: np.full(shape, fill_value, dtype, order='c', *, like=None )"
   ]
  },
  {
   "cell_type": "code",
   "execution_count": 1,
   "id": "8af63948",
   "metadata": {},
   "outputs": [],
   "source": [
    "# return a new array of given shape and type without usihng fill_type\n",
    "import numpy as np"
   ]
  },
  {
   "cell_type": "code",
   "execution_count": 2,
   "id": "9d599b60",
   "metadata": {},
   "outputs": [
    {
     "data": {
      "text/plain": [
       "array([[100, 100, 100],\n",
       "       [100, 100, 100],\n",
       "       [100, 100, 100]])"
      ]
     },
     "execution_count": 2,
     "metadata": {},
     "output_type": "execute_result"
    }
   ],
   "source": [
    "np.full((3,3),fill_value=100)"
   ]
  },
  {
   "cell_type": "code",
   "execution_count": 3,
   "id": "94406c39",
   "metadata": {},
   "outputs": [
    {
     "data": {
      "text/plain": [
       "array([-1.2, -1.2, -1.2, -1.2, -1.2, -1.2, -1.2, -1.2, -1.2, -1.2])"
      ]
     },
     "execution_count": 3,
     "metadata": {},
     "output_type": "execute_result"
    }
   ],
   "source": [
    "np.full((10),fill_value=-1.2)"
   ]
  },
  {
   "cell_type": "code",
   "execution_count": 4,
   "id": "c58adec5",
   "metadata": {},
   "outputs": [
    {
     "data": {
      "text/plain": [
       "array([[False, False, False],\n",
       "       [False, False, False],\n",
       "       [False, False, False]])"
      ]
     },
     "execution_count": 4,
     "metadata": {},
     "output_type": "execute_result"
    }
   ],
   "source": [
    "np.full((3,3),fill_value=False)"
   ]
  },
  {
   "cell_type": "code",
   "execution_count": 5,
   "id": "e5bc0081",
   "metadata": {},
   "outputs": [
    {
     "data": {
      "text/plain": [
       "array([['null', 'null', 'null'],\n",
       "       ['null', 'null', 'null'],\n",
       "       ['null', 'null', 'null']], dtype='<U4')"
      ]
     },
     "execution_count": 5,
     "metadata": {},
     "output_type": "execute_result"
    }
   ],
   "source": [
    "np.full((3,3),fill_value='null')"
   ]
  },
  {
   "cell_type": "markdown",
   "id": "71c24e7b",
   "metadata": {},
   "source": [
    "## empty(): Array with garbage values"
   ]
  },
  {
   "cell_type": "code",
   "execution_count": 6,
   "id": "b107dc47",
   "metadata": {},
   "outputs": [
    {
     "data": {
      "text/plain": [
       "array([2.12199579e-314, 4.67296746e-307, 5.59282311e-321, 9.42166132e-312,\n",
       "       3.72364679e-317])"
      ]
     },
     "execution_count": 6,
     "metadata": {},
     "output_type": "execute_result"
    }
   ],
   "source": [
    "np.empty(5) #1D"
   ]
  },
  {
   "cell_type": "code",
   "execution_count": 7,
   "id": "bce27629",
   "metadata": {},
   "outputs": [
    {
     "data": {
      "text/plain": [
       "array([[9.43180277e-312, 7.80623720e-322, 0.00000000e+000,\n",
       "        0.00000000e+000],\n",
       "       [7.56587583e-307, 1.15998412e-028, 4.31603868e-080,\n",
       "        1.94919985e-153],\n",
       "       [1.35717430e+131, 1.05894612e-153, 6.40695294e+029,\n",
       "        4.07356379e+223],\n",
       "       [8.94213159e+130, 6.40695294e+029, 3.88834045e+160,\n",
       "        1.81148490e-152],\n",
       "       [8.59641098e+030, 3.88834045e+160, 1.16304910e+214,\n",
       "        2.18229367e-094],\n",
       "       [1.43267083e+161, 2.20832505e-094, 9.80058441e+252,\n",
       "        1.23971686e+224]])"
      ]
     },
     "execution_count": 7,
     "metadata": {},
     "output_type": "execute_result"
    }
   ],
   "source": [
    "np.empty((6,4)) #2D"
   ]
  },
  {
   "cell_type": "code",
   "execution_count": 8,
   "id": "232c9982",
   "metadata": {},
   "outputs": [
    {
     "data": {
      "text/plain": [
       "array([[[1.37962049e-306, 1.24610791e-306, 1.11260959e-306],\n",
       "        [1.69109959e-306, 9.34603679e-307, 1.42419802e-306],\n",
       "        [1.78019082e-306, 4.45061456e-308, 1.24612081e-306]],\n",
       "\n",
       "       [[1.37962049e-306, 9.34597567e-307, 1.29061821e-306],\n",
       "        [1.78019625e-306, 1.11255866e-306, 8.90098127e-307],\n",
       "        [9.34609790e-307, 3.91792279e-317, 2.56761491e-312]]])"
      ]
     },
     "execution_count": 8,
     "metadata": {},
     "output_type": "execute_result"
    }
   ],
   "source": [
    "np.empty((2,3,3)) #3D"
   ]
  },
  {
   "cell_type": "markdown",
   "id": "93d0a459",
   "metadata": {},
   "source": [
    "## identity(): Identity matrix\n"
   ]
  },
  {
   "cell_type": "markdown",
   "id": "35aaf3d7",
   "metadata": {},
   "source": [
    "#### diagonal elements are 1 and non-diagonal elements are zero"
   ]
  },
  {
   "cell_type": "code",
   "execution_count": 9,
   "id": "0ff57e32",
   "metadata": {},
   "outputs": [],
   "source": [
    "#n : means NxN array"
   ]
  },
  {
   "cell_type": "code",
   "execution_count": 10,
   "id": "eecdcf8b",
   "metadata": {},
   "outputs": [
    {
     "data": {
      "text/plain": [
       "array([[1., 0., 0., 0.],\n",
       "       [0., 1., 0., 0.],\n",
       "       [0., 0., 1., 0.],\n",
       "       [0., 0., 0., 1.]])"
      ]
     },
     "execution_count": 10,
     "metadata": {},
     "output_type": "execute_result"
    }
   ],
   "source": [
    "np.identity(4)"
   ]
  },
  {
   "cell_type": "code",
   "execution_count": 11,
   "id": "61937b24",
   "metadata": {},
   "outputs": [
    {
     "data": {
      "text/plain": [
       "array([[1., 0.],\n",
       "       [0., 1.]])"
      ]
     },
     "execution_count": 11,
     "metadata": {},
     "output_type": "execute_result"
    }
   ],
   "source": [
    "np.identity(2)"
   ]
  },
  {
   "cell_type": "code",
   "execution_count": 12,
   "id": "c97c7b39",
   "metadata": {},
   "outputs": [
    {
     "data": {
      "text/plain": [
       "array([[1, 0, 0],\n",
       "       [0, 1, 0],\n",
       "       [0, 0, 1]])"
      ]
     },
     "execution_count": 12,
     "metadata": {},
     "output_type": "execute_result"
    }
   ],
   "source": [
    "np.identity(3,dtype=int)"
   ]
  },
  {
   "cell_type": "code",
   "execution_count": 13,
   "id": "d70f10ff",
   "metadata": {},
   "outputs": [
    {
     "ename": "TypeError",
     "evalue": "'tuple' object cannot be interpreted as an integer",
     "output_type": "error",
     "traceback": [
      "\u001b[1;31m---------------------------------------------------------------------------\u001b[0m",
      "\u001b[1;31mTypeError\u001b[0m                                 Traceback (most recent call last)",
      "\u001b[1;32m~\\AppData\\Local\\Temp\\ipykernel_23132\\281885188.py\u001b[0m in \u001b[0;36m<module>\u001b[1;34m\u001b[0m\n\u001b[1;32m----> 1\u001b[1;33m \u001b[0mnp\u001b[0m\u001b[1;33m.\u001b[0m\u001b[0midentity\u001b[0m\u001b[1;33m(\u001b[0m\u001b[1;33m(\u001b[0m\u001b[1;36m2\u001b[0m\u001b[1;33m,\u001b[0m\u001b[1;36m3\u001b[0m\u001b[1;33m)\u001b[0m\u001b[1;33m,\u001b[0m\u001b[0mdtype\u001b[0m\u001b[1;33m=\u001b[0m\u001b[0mint\u001b[0m\u001b[1;33m)\u001b[0m\u001b[1;33m\u001b[0m\u001b[1;33m\u001b[0m\u001b[0m\n\u001b[0m",
      "\u001b[1;32m~\\anaconda3\\lib\\site-packages\\numpy\\core\\numeric.py\u001b[0m in \u001b[0;36midentity\u001b[1;34m(n, dtype, like)\u001b[0m\n\u001b[0;32m   2165\u001b[0m \u001b[1;33m\u001b[0m\u001b[0m\n\u001b[0;32m   2166\u001b[0m     \u001b[1;32mfrom\u001b[0m \u001b[0mnumpy\u001b[0m \u001b[1;32mimport\u001b[0m \u001b[0meye\u001b[0m\u001b[1;33m\u001b[0m\u001b[1;33m\u001b[0m\u001b[0m\n\u001b[1;32m-> 2167\u001b[1;33m     \u001b[1;32mreturn\u001b[0m \u001b[0meye\u001b[0m\u001b[1;33m(\u001b[0m\u001b[0mn\u001b[0m\u001b[1;33m,\u001b[0m \u001b[0mdtype\u001b[0m\u001b[1;33m=\u001b[0m\u001b[0mdtype\u001b[0m\u001b[1;33m,\u001b[0m \u001b[0mlike\u001b[0m\u001b[1;33m=\u001b[0m\u001b[0mlike\u001b[0m\u001b[1;33m)\u001b[0m\u001b[1;33m\u001b[0m\u001b[1;33m\u001b[0m\u001b[0m\n\u001b[0m\u001b[0;32m   2168\u001b[0m \u001b[1;33m\u001b[0m\u001b[0m\n\u001b[0;32m   2169\u001b[0m \u001b[1;33m\u001b[0m\u001b[0m\n",
      "\u001b[1;32m~\\anaconda3\\lib\\site-packages\\numpy\\lib\\twodim_base.py\u001b[0m in \u001b[0;36meye\u001b[1;34m(N, M, k, dtype, order, like)\u001b[0m\n\u001b[0;32m    212\u001b[0m     \u001b[1;32mif\u001b[0m \u001b[0mM\u001b[0m \u001b[1;32mis\u001b[0m \u001b[1;32mNone\u001b[0m\u001b[1;33m:\u001b[0m\u001b[1;33m\u001b[0m\u001b[1;33m\u001b[0m\u001b[0m\n\u001b[0;32m    213\u001b[0m         \u001b[0mM\u001b[0m \u001b[1;33m=\u001b[0m \u001b[0mN\u001b[0m\u001b[1;33m\u001b[0m\u001b[1;33m\u001b[0m\u001b[0m\n\u001b[1;32m--> 214\u001b[1;33m     \u001b[0mm\u001b[0m \u001b[1;33m=\u001b[0m \u001b[0mzeros\u001b[0m\u001b[1;33m(\u001b[0m\u001b[1;33m(\u001b[0m\u001b[0mN\u001b[0m\u001b[1;33m,\u001b[0m \u001b[0mM\u001b[0m\u001b[1;33m)\u001b[0m\u001b[1;33m,\u001b[0m \u001b[0mdtype\u001b[0m\u001b[1;33m=\u001b[0m\u001b[0mdtype\u001b[0m\u001b[1;33m,\u001b[0m \u001b[0morder\u001b[0m\u001b[1;33m=\u001b[0m\u001b[0morder\u001b[0m\u001b[1;33m)\u001b[0m\u001b[1;33m\u001b[0m\u001b[1;33m\u001b[0m\u001b[0m\n\u001b[0m\u001b[0;32m    215\u001b[0m     \u001b[1;32mif\u001b[0m \u001b[0mk\u001b[0m \u001b[1;33m>=\u001b[0m \u001b[0mM\u001b[0m\u001b[1;33m:\u001b[0m\u001b[1;33m\u001b[0m\u001b[1;33m\u001b[0m\u001b[0m\n\u001b[0;32m    216\u001b[0m         \u001b[1;32mreturn\u001b[0m \u001b[0mm\u001b[0m\u001b[1;33m\u001b[0m\u001b[1;33m\u001b[0m\u001b[0m\n",
      "\u001b[1;31mTypeError\u001b[0m: 'tuple' object cannot be interpreted as an integer"
     ]
    }
   ],
   "source": [
    "np.identity((2,3),dtype=int)"
   ]
  },
  {
   "cell_type": "markdown",
   "id": "d83b7f8c",
   "metadata": {},
   "source": [
    "## eye(): used to an create identity matrix"
   ]
  },
  {
   "cell_type": "code",
   "execution_count": 14,
   "id": "189f8d81",
   "metadata": {},
   "outputs": [
    {
     "data": {
      "text/plain": [
       "array([[1., 0., 0., 0.],\n",
       "       [0., 1., 0., 0.],\n",
       "       [0., 0., 1., 0.],\n",
       "       [0., 0., 0., 1.]])"
      ]
     },
     "execution_count": 14,
     "metadata": {},
     "output_type": "execute_result"
    }
   ],
   "source": [
    "np.eye(4)"
   ]
  },
  {
   "cell_type": "code",
   "execution_count": 15,
   "id": "a34e09f9",
   "metadata": {},
   "outputs": [],
   "source": [
    "np.eye?"
   ]
  },
  {
   "cell_type": "code",
   "execution_count": 16,
   "id": "ee310966",
   "metadata": {},
   "outputs": [
    {
     "data": {
      "text/plain": [
       "array([[1., 0., 0., 0., 0., 0.],\n",
       "       [0., 1., 0., 0., 0., 0.],\n",
       "       [0., 0., 1., 0., 0., 0.]])"
      ]
     },
     "execution_count": 16,
     "metadata": {},
     "output_type": "execute_result"
    }
   ],
   "source": [
    "#identity(N, dtype=None, *, like=None)\n",
    "#eye(N, M=None, k=0, dtype=<class 'float'>)\n",
    "np.eye(3,6)"
   ]
  },
  {
   "cell_type": "code",
   "execution_count": 17,
   "id": "dfa9ce92",
   "metadata": {},
   "outputs": [
    {
     "data": {
      "text/plain": [
       "array([[0., 0., 1., 0., 0., 0.],\n",
       "       [0., 0., 0., 1., 0., 0.],\n",
       "       [0., 0., 0., 0., 1., 0.],\n",
       "       [0., 0., 0., 0., 0., 1.]])"
      ]
     },
     "execution_count": 17,
     "metadata": {},
     "output_type": "execute_result"
    }
   ],
   "source": [
    "np.eye(4,6,k=2)"
   ]
  },
  {
   "cell_type": "markdown",
   "id": "6d5d95da",
   "metadata": {},
   "source": [
    "#Q. Difference between identity() and eye()?\n",
    "- both returns identity matrix\n",
    "- identity(): it takes only one argument ie a Number only for row and bydefault same number of columns as it is a identity matrix.\n",
    "- eye(): it allows to put number of rows and columns of users choice. it also allows to change the position identity 1 in the matrix.\n"
   ]
  },
  {
   "cell_type": "markdown",
   "id": "1cfbc309",
   "metadata": {},
   "source": [
    "## linspace(): Array with linearly spaced values"
   ]
  },
  {
   "cell_type": "markdown",
   "id": "e2f3929e",
   "metadata": {},
   "source": [
    "-Space between two consequtive numbers will be same always"
   ]
  },
  {
   "cell_type": "code",
   "execution_count": 18,
   "id": "277b2eba",
   "metadata": {},
   "outputs": [],
   "source": [
    "np.linspace?"
   ]
  },
  {
   "cell_type": "code",
   "execution_count": 20,
   "id": "ad049088",
   "metadata": {},
   "outputs": [
    {
     "data": {
      "text/plain": [
       "'\\nnp.linspace(\\n    start,\\n    stop,\\n    num=50,\\n    endpoint=True,\\n    retstep=False,\\n    dtype=None,\\n    axis=0,)\\n\\n\\n'"
      ]
     },
     "execution_count": 20,
     "metadata": {},
     "output_type": "execute_result"
    }
   ],
   "source": [
    "\"\"\"\n",
    "np.linspace(\n",
    "    start,\n",
    "    stop,\n",
    "    num=50,\n",
    "    endpoint=True,\n",
    "    retstep=False,\n",
    "    dtype=None,\n",
    "    axis=0,)\n",
    "\n",
    "\n",
    "\"\"\"\"\"\n",
    "\n"
   ]
  },
  {
   "cell_type": "code",
   "execution_count": 21,
   "id": "9ca52fc9",
   "metadata": {},
   "outputs": [
    {
     "ename": "TypeError",
     "evalue": "_linspace_dispatcher() missing 1 required positional argument: 'stop'",
     "output_type": "error",
     "traceback": [
      "\u001b[1;31m---------------------------------------------------------------------------\u001b[0m",
      "\u001b[1;31mTypeError\u001b[0m                                 Traceback (most recent call last)",
      "\u001b[1;32m~\\AppData\\Local\\Temp\\ipykernel_23132\\4009915685.py\u001b[0m in \u001b[0;36m<module>\u001b[1;34m\u001b[0m\n\u001b[1;32m----> 1\u001b[1;33m \u001b[0mnp\u001b[0m\u001b[1;33m.\u001b[0m\u001b[0mlinspace\u001b[0m\u001b[1;33m(\u001b[0m\u001b[1;36m3\u001b[0m\u001b[1;33m)\u001b[0m\u001b[1;33m\u001b[0m\u001b[1;33m\u001b[0m\u001b[0m\n\u001b[0m",
      "\u001b[1;32m<__array_function__ internals>\u001b[0m in \u001b[0;36mlinspace\u001b[1;34m(*args, **kwargs)\u001b[0m\n",
      "\u001b[1;31mTypeError\u001b[0m: _linspace_dispatcher() missing 1 required positional argument: 'stop'"
     ]
    }
   ],
   "source": [
    "np.linspace(3)"
   ]
  },
  {
   "cell_type": "code",
   "execution_count": 22,
   "id": "3d43c14c",
   "metadata": {},
   "outputs": [
    {
     "data": {
      "text/plain": [
       "array([3.        , 3.02040816, 3.04081633, 3.06122449, 3.08163265,\n",
       "       3.10204082, 3.12244898, 3.14285714, 3.16326531, 3.18367347,\n",
       "       3.20408163, 3.2244898 , 3.24489796, 3.26530612, 3.28571429,\n",
       "       3.30612245, 3.32653061, 3.34693878, 3.36734694, 3.3877551 ,\n",
       "       3.40816327, 3.42857143, 3.44897959, 3.46938776, 3.48979592,\n",
       "       3.51020408, 3.53061224, 3.55102041, 3.57142857, 3.59183673,\n",
       "       3.6122449 , 3.63265306, 3.65306122, 3.67346939, 3.69387755,\n",
       "       3.71428571, 3.73469388, 3.75510204, 3.7755102 , 3.79591837,\n",
       "       3.81632653, 3.83673469, 3.85714286, 3.87755102, 3.89795918,\n",
       "       3.91836735, 3.93877551, 3.95918367, 3.97959184, 4.        ])"
      ]
     },
     "execution_count": 22,
     "metadata": {},
     "output_type": "execute_result"
    }
   ],
   "source": [
    "np.linspace(3,4)"
   ]
  },
  {
   "cell_type": "code",
   "execution_count": 23,
   "id": "670785fd",
   "metadata": {},
   "outputs": [
    {
     "data": {
      "text/plain": [
       "array([3, 3, 3, 3, 3, 3, 3, 3, 3, 3, 3, 3, 3, 3, 3, 3, 4, 4, 4, 4, 4, 4,\n",
       "       4, 4, 4, 4, 4, 4, 4, 4, 4, 4, 5])"
      ]
     },
     "execution_count": 23,
     "metadata": {},
     "output_type": "execute_result"
    }
   ],
   "source": [
    "np.linspace(3,5,num=33,dtype=int)"
   ]
  },
  {
   "cell_type": "code",
   "execution_count": 24,
   "id": "13644bef",
   "metadata": {},
   "outputs": [
    {
     "data": {
      "text/plain": [
       "(array([5.        , 5.09090909, 5.18181818, 5.27272727, 5.36363636,\n",
       "        5.45454545, 5.54545455, 5.63636364, 5.72727273, 5.81818182,\n",
       "        5.90909091, 6.        , 6.09090909, 6.18181818, 6.27272727,\n",
       "        6.36363636, 6.45454545, 6.54545455, 6.63636364, 6.72727273,\n",
       "        6.81818182, 6.90909091, 7.        ]),\n",
       " 0.09090909090909091)"
      ]
     },
     "execution_count": 24,
     "metadata": {},
     "output_type": "execute_result"
    }
   ],
   "source": [
    "np.linspace(5,7,num=23,retstep=True)"
   ]
  },
  {
   "cell_type": "code",
   "execution_count": 27,
   "id": "1585605c",
   "metadata": {},
   "outputs": [],
   "source": [
    "# if we dont want to add endpoint in our array then?\n",
    "x = np.linspace(5,7,num=23,endpoint=False)"
   ]
  },
  {
   "cell_type": "code",
   "execution_count": 28,
   "id": "501d276f",
   "metadata": {},
   "outputs": [
    {
     "ename": "ValueError",
     "evalue": "diag requires an array of at least two dimensions",
     "output_type": "error",
     "traceback": [
      "\u001b[1;31m---------------------------------------------------------------------------\u001b[0m",
      "\u001b[1;31mValueError\u001b[0m                                Traceback (most recent call last)",
      "\u001b[1;32m~\\AppData\\Local\\Temp\\ipykernel_23132\\3471263416.py\u001b[0m in \u001b[0;36m<module>\u001b[1;34m\u001b[0m\n\u001b[1;32m----> 1\u001b[1;33m \u001b[0mnp\u001b[0m\u001b[1;33m.\u001b[0m\u001b[0mdiagonal\u001b[0m\u001b[1;33m(\u001b[0m\u001b[0mx\u001b[0m\u001b[1;33m)\u001b[0m\u001b[1;33m\u001b[0m\u001b[1;33m\u001b[0m\u001b[0m\n\u001b[0m",
      "\u001b[1;32m<__array_function__ internals>\u001b[0m in \u001b[0;36mdiagonal\u001b[1;34m(*args, **kwargs)\u001b[0m\n",
      "\u001b[1;32m~\\anaconda3\\lib\\site-packages\\numpy\\core\\fromnumeric.py\u001b[0m in \u001b[0;36mdiagonal\u001b[1;34m(a, offset, axis1, axis2)\u001b[0m\n\u001b[0;32m   1640\u001b[0m         \u001b[1;32mreturn\u001b[0m \u001b[0masarray\u001b[0m\u001b[1;33m(\u001b[0m\u001b[0ma\u001b[0m\u001b[1;33m)\u001b[0m\u001b[1;33m.\u001b[0m\u001b[0mdiagonal\u001b[0m\u001b[1;33m(\u001b[0m\u001b[0moffset\u001b[0m\u001b[1;33m=\u001b[0m\u001b[0moffset\u001b[0m\u001b[1;33m,\u001b[0m \u001b[0maxis1\u001b[0m\u001b[1;33m=\u001b[0m\u001b[0maxis1\u001b[0m\u001b[1;33m,\u001b[0m \u001b[0maxis2\u001b[0m\u001b[1;33m=\u001b[0m\u001b[0maxis2\u001b[0m\u001b[1;33m)\u001b[0m\u001b[1;33m\u001b[0m\u001b[1;33m\u001b[0m\u001b[0m\n\u001b[0;32m   1641\u001b[0m     \u001b[1;32melse\u001b[0m\u001b[1;33m:\u001b[0m\u001b[1;33m\u001b[0m\u001b[1;33m\u001b[0m\u001b[0m\n\u001b[1;32m-> 1642\u001b[1;33m         \u001b[1;32mreturn\u001b[0m \u001b[0masanyarray\u001b[0m\u001b[1;33m(\u001b[0m\u001b[0ma\u001b[0m\u001b[1;33m)\u001b[0m\u001b[1;33m.\u001b[0m\u001b[0mdiagonal\u001b[0m\u001b[1;33m(\u001b[0m\u001b[0moffset\u001b[0m\u001b[1;33m=\u001b[0m\u001b[0moffset\u001b[0m\u001b[1;33m,\u001b[0m \u001b[0maxis1\u001b[0m\u001b[1;33m=\u001b[0m\u001b[0maxis1\u001b[0m\u001b[1;33m,\u001b[0m \u001b[0maxis2\u001b[0m\u001b[1;33m=\u001b[0m\u001b[0maxis2\u001b[0m\u001b[1;33m)\u001b[0m\u001b[1;33m\u001b[0m\u001b[1;33m\u001b[0m\u001b[0m\n\u001b[0m\u001b[0;32m   1643\u001b[0m \u001b[1;33m\u001b[0m\u001b[0m\n\u001b[0;32m   1644\u001b[0m \u001b[1;33m\u001b[0m\u001b[0m\n",
      "\u001b[1;31mValueError\u001b[0m: diag requires an array of at least two dimensions"
     ]
    }
   ],
   "source": [
    "np.diagonal(x)"
   ]
  },
  {
   "cell_type": "code",
   "execution_count": 29,
   "id": "82ef3218",
   "metadata": {},
   "outputs": [],
   "source": [
    "x = np.array((3,3,3))"
   ]
  },
  {
   "cell_type": "code",
   "execution_count": 30,
   "id": "10630620",
   "metadata": {},
   "outputs": [
    {
     "ename": "ValueError",
     "evalue": "diag requires an array of at least two dimensions",
     "output_type": "error",
     "traceback": [
      "\u001b[1;31m---------------------------------------------------------------------------\u001b[0m",
      "\u001b[1;31mValueError\u001b[0m                                Traceback (most recent call last)",
      "\u001b[1;32m~\\AppData\\Local\\Temp\\ipykernel_23132\\3471263416.py\u001b[0m in \u001b[0;36m<module>\u001b[1;34m\u001b[0m\n\u001b[1;32m----> 1\u001b[1;33m \u001b[0mnp\u001b[0m\u001b[1;33m.\u001b[0m\u001b[0mdiagonal\u001b[0m\u001b[1;33m(\u001b[0m\u001b[0mx\u001b[0m\u001b[1;33m)\u001b[0m\u001b[1;33m\u001b[0m\u001b[1;33m\u001b[0m\u001b[0m\n\u001b[0m",
      "\u001b[1;32m<__array_function__ internals>\u001b[0m in \u001b[0;36mdiagonal\u001b[1;34m(*args, **kwargs)\u001b[0m\n",
      "\u001b[1;32m~\\anaconda3\\lib\\site-packages\\numpy\\core\\fromnumeric.py\u001b[0m in \u001b[0;36mdiagonal\u001b[1;34m(a, offset, axis1, axis2)\u001b[0m\n\u001b[0;32m   1640\u001b[0m         \u001b[1;32mreturn\u001b[0m \u001b[0masarray\u001b[0m\u001b[1;33m(\u001b[0m\u001b[0ma\u001b[0m\u001b[1;33m)\u001b[0m\u001b[1;33m.\u001b[0m\u001b[0mdiagonal\u001b[0m\u001b[1;33m(\u001b[0m\u001b[0moffset\u001b[0m\u001b[1;33m=\u001b[0m\u001b[0moffset\u001b[0m\u001b[1;33m,\u001b[0m \u001b[0maxis1\u001b[0m\u001b[1;33m=\u001b[0m\u001b[0maxis1\u001b[0m\u001b[1;33m,\u001b[0m \u001b[0maxis2\u001b[0m\u001b[1;33m=\u001b[0m\u001b[0maxis2\u001b[0m\u001b[1;33m)\u001b[0m\u001b[1;33m\u001b[0m\u001b[1;33m\u001b[0m\u001b[0m\n\u001b[0;32m   1641\u001b[0m     \u001b[1;32melse\u001b[0m\u001b[1;33m:\u001b[0m\u001b[1;33m\u001b[0m\u001b[1;33m\u001b[0m\u001b[0m\n\u001b[1;32m-> 1642\u001b[1;33m         \u001b[1;32mreturn\u001b[0m \u001b[0masanyarray\u001b[0m\u001b[1;33m(\u001b[0m\u001b[0ma\u001b[0m\u001b[1;33m)\u001b[0m\u001b[1;33m.\u001b[0m\u001b[0mdiagonal\u001b[0m\u001b[1;33m(\u001b[0m\u001b[0moffset\u001b[0m\u001b[1;33m=\u001b[0m\u001b[0moffset\u001b[0m\u001b[1;33m,\u001b[0m \u001b[0maxis1\u001b[0m\u001b[1;33m=\u001b[0m\u001b[0maxis1\u001b[0m\u001b[1;33m,\u001b[0m \u001b[0maxis2\u001b[0m\u001b[1;33m=\u001b[0m\u001b[0maxis2\u001b[0m\u001b[1;33m)\u001b[0m\u001b[1;33m\u001b[0m\u001b[1;33m\u001b[0m\u001b[0m\n\u001b[0m\u001b[0;32m   1643\u001b[0m \u001b[1;33m\u001b[0m\u001b[0m\n\u001b[0;32m   1644\u001b[0m \u001b[1;33m\u001b[0m\u001b[0m\n",
      "\u001b[1;31mValueError\u001b[0m: diag requires an array of at least two dimensions"
     ]
    }
   ],
   "source": [
    "np.diagonal(x) # gives you an access to diagonal elements "
   ]
  },
  {
   "cell_type": "code",
   "execution_count": 31,
   "id": "f6d539ce",
   "metadata": {},
   "outputs": [],
   "source": [
    "k = np.identity(4)"
   ]
  },
  {
   "cell_type": "code",
   "execution_count": 32,
   "id": "d544f8bc",
   "metadata": {},
   "outputs": [
    {
     "data": {
      "text/plain": [
       "array([[1., 0., 0., 0.],\n",
       "       [0., 1., 0., 0.],\n",
       "       [0., 0., 1., 0.],\n",
       "       [0., 0., 0., 1.]])"
      ]
     },
     "execution_count": 32,
     "metadata": {},
     "output_type": "execute_result"
    }
   ],
   "source": [
    "k"
   ]
  },
  {
   "cell_type": "code",
   "execution_count": 33,
   "id": "2a09c564",
   "metadata": {},
   "outputs": [
    {
     "data": {
      "text/plain": [
       "array([1., 1., 1., 1.])"
      ]
     },
     "execution_count": 33,
     "metadata": {},
     "output_type": "execute_result"
    }
   ],
   "source": [
    "np.diagonal(k)"
   ]
  },
  {
   "cell_type": "markdown",
   "id": "fc779059",
   "metadata": {},
   "source": [
    "## random(): Creates an array of random numbers"
   ]
  },
  {
   "cell_type": "code",
   "execution_count": 34,
   "id": "5c3e9227",
   "metadata": {},
   "outputs": [
    {
     "data": {
      "text/plain": [
       "array([0.86428937, 0.50262276, 0.92360185, 0.26482116, 0.02288308])"
      ]
     },
     "execution_count": 34,
     "metadata": {},
     "output_type": "execute_result"
    }
   ],
   "source": [
    "#random(size=None)\n",
    "#return random floats in the half-open interval[0.0,1.0]\n",
    "np.random.random(5)"
   ]
  },
  {
   "cell_type": "code",
   "execution_count": 36,
   "id": "a7b887a5",
   "metadata": {},
   "outputs": [
    {
     "data": {
      "text/plain": [
       "array([[0.24983279, 0.25687547, 0.70202782, 0.8459854 , 0.80044759],\n",
       "       [0.77067317, 0.08398698, 0.71031504, 0.94706613, 0.74383402],\n",
       "       [0.29145441, 0.55131053, 0.97833476, 0.48785093, 0.7306244 ],\n",
       "       [0.07879028, 0.38269772, 0.1337926 , 0.89587136, 0.09248281]])"
      ]
     },
     "execution_count": 36,
     "metadata": {},
     "output_type": "execute_result"
    }
   ],
   "source": [
    "np.random.random((4,5))"
   ]
  },
  {
   "cell_type": "code",
   "execution_count": 37,
   "id": "1183d96f",
   "metadata": {},
   "outputs": [],
   "source": [
    "np.random.random?"
   ]
  },
  {
   "cell_type": "code",
   "execution_count": 39,
   "id": "2f1d3225",
   "metadata": {},
   "outputs": [
    {
     "data": {
      "text/plain": [
       "array([0, 1, 2, 2, 1, 1, 1, 2, 1, 0, 1, 1])"
      ]
     },
     "execution_count": 39,
     "metadata": {},
     "output_type": "execute_result"
    }
   ],
   "source": [
    "# random integer values \n",
    "#random.randint(low,high=None,size=None,dtype=int)\n",
    "np.random.randint(4,size=12)"
   ]
  },
  {
   "cell_type": "code",
   "execution_count": 40,
   "id": "f8976801",
   "metadata": {},
   "outputs": [
    {
     "data": {
      "text/plain": [
       "array([1, 1, 3, 3, 1, 0, 3, 3, 1, 4])"
      ]
     },
     "execution_count": 40,
     "metadata": {},
     "output_type": "execute_result"
    }
   ],
   "source": [
    "np.random.randint(5,size=10) # when we supply only low then it is exclusive "
   ]
  },
  {
   "cell_type": "code",
   "execution_count": 41,
   "id": "9880b791",
   "metadata": {},
   "outputs": [
    {
     "data": {
      "text/plain": [
       "array([6, 8, 5, 7, 8, 5, 8, 7, 7, 5, 7, 7, 8, 5, 7, 5, 5, 7, 6, 6])"
      ]
     },
     "execution_count": 41,
     "metadata": {},
     "output_type": "execute_result"
    }
   ],
   "source": [
    "np.random.randint(5,9,size=20) #when we supply both low and High values then it includes low but excludes High"
   ]
  },
  {
   "cell_type": "code",
   "execution_count": 42,
   "id": "a5841a12",
   "metadata": {},
   "outputs": [
    {
     "data": {
      "text/plain": [
       "array([115, 111,  88, 116, 103, 102,  99, 116,  72, 117,  87, 101, 120,\n",
       "        78, 110,  84,  73, 100,  72,  74, 108,  77,  75, 102,  83,  82,\n",
       "        74, 100,  96,  95, 112,  87, 110, 107,  73,  87,  89, 112, 107,\n",
       "        85,  95, 106, 114,  70,  86, 109,  71,  85,  94, 118, 101,  95,\n",
       "       102, 114,  91,  85, 108,  93,  75, 100,  80, 100,  95, 115,  88,\n",
       "        89,  83,  99,  91,  79, 104,  72, 120,  82,  75,  83,  93, 100,\n",
       "        91,  77, 106,  94,  73,  89,  81,  93, 112, 102,  80,  79,  86,\n",
       "       111, 105, 108, 109, 107,  83, 111,  82, 111])"
      ]
     },
     "execution_count": 42,
     "metadata": {},
     "output_type": "execute_result"
    }
   ],
   "source": [
    "# Generate a data of Bloodpressure in range 70-120\n",
    "np.random.randint(70,121,size=100)"
   ]
  },
  {
   "cell_type": "code",
   "execution_count": 43,
   "id": "fcdaf6b4",
   "metadata": {},
   "outputs": [
    {
     "data": {
      "text/plain": [
       "array([53505, 30443, 39683, 35821, 53905, 50823, 43701, 35358, 53511,\n",
       "       44195, 43334, 31532, 59162, 35960, 58653, 43604, 30321, 36010,\n",
       "       40921, 30371, 22769, 52836, 20287, 33789, 23810, 26325, 58391,\n",
       "       54720, 53359, 22282, 40904, 31098, 45442, 52375, 51229, 51846,\n",
       "       40037, 54778, 47116, 25433, 51288, 44872, 39219, 34354, 24127,\n",
       "       44423, 59365, 28676, 21900, 32881, 22842, 21567, 52301, 34190,\n",
       "       50047, 47643, 47563, 33154, 33202, 33356, 57859, 30277, 22886,\n",
       "       37554, 31287, 21374, 48254, 30407, 29491, 57846, 51285, 31915,\n",
       "       24663, 32699, 22798, 47325, 45895, 47175, 38682, 53172, 32484,\n",
       "       50987, 58931, 26685, 41883, 20205, 43289, 41305, 47946, 26172,\n",
       "       23587, 34197, 30870, 29534, 32383, 38033, 59103, 29844, 46333,\n",
       "       49442])"
      ]
     },
     "execution_count": 43,
     "metadata": {},
     "output_type": "execute_result"
    }
   ],
   "source": [
    "# salaray data: for 20000, 60000 for 100 employees\n",
    "np.random.randint(20000,60001,100)"
   ]
  },
  {
   "cell_type": "code",
   "execution_count": 48,
   "id": "dcd01468",
   "metadata": {},
   "outputs": [
    {
     "data": {
      "text/plain": [
       "array([3, 3, 3])"
      ]
     },
     "execution_count": 48,
     "metadata": {},
     "output_type": "execute_result"
    }
   ],
   "source": [
    "# if we have a array present in our directory\n",
    "x"
   ]
  },
  {
   "cell_type": "code",
   "execution_count": 50,
   "id": "15b949da",
   "metadata": {},
   "outputs": [],
   "source": [
    "y = np.random.random((5,3))"
   ]
  },
  {
   "cell_type": "code",
   "execution_count": 51,
   "id": "8d75911b",
   "metadata": {},
   "outputs": [
    {
     "data": {
      "text/plain": [
       "array([[0.42420855, 0.23473876, 0.99374867],\n",
       "       [0.3390831 , 0.52914767, 0.67218166],\n",
       "       [0.97566423, 0.25338003, 0.08091377],\n",
       "       [0.32080216, 0.46047979, 0.28195951],\n",
       "       [0.91419746, 0.07324572, 0.415479  ]])"
      ]
     },
     "execution_count": 51,
     "metadata": {},
     "output_type": "execute_result"
    }
   ],
   "source": [
    "y"
   ]
  },
  {
   "cell_type": "code",
   "execution_count": 52,
   "id": "51bba2dc",
   "metadata": {},
   "outputs": [
    {
     "data": {
      "text/plain": [
       "(5, 3)"
      ]
     },
     "execution_count": 52,
     "metadata": {},
     "output_type": "execute_result"
    }
   ],
   "source": [
    "y.shape"
   ]
  },
  {
   "cell_type": "code",
   "execution_count": 53,
   "id": "e5f8dd31",
   "metadata": {},
   "outputs": [
    {
     "data": {
      "text/plain": [
       "array([[1., 1., 1.],\n",
       "       [1., 1., 1.],\n",
       "       [1., 1., 1.],\n",
       "       [1., 1., 1.],\n",
       "       [1., 1., 1.]])"
      ]
     },
     "execution_count": 53,
     "metadata": {},
     "output_type": "execute_result"
    }
   ],
   "source": [
    "# Create an array of 1's with same structure as that of y\n",
    "np.ones_like(y)"
   ]
  },
  {
   "cell_type": "code",
   "execution_count": 54,
   "id": "26514f31",
   "metadata": {},
   "outputs": [
    {
     "data": {
      "text/plain": [
       "array([[1, 1, 1],\n",
       "       [1, 1, 1],\n",
       "       [1, 1, 1],\n",
       "       [1, 1, 1],\n",
       "       [1, 1, 1]])"
      ]
     },
     "execution_count": 54,
     "metadata": {},
     "output_type": "execute_result"
    }
   ],
   "source": [
    "np.ones_like(y,dtype=int)"
   ]
  },
  {
   "cell_type": "code",
   "execution_count": 55,
   "id": "ecfb9f81",
   "metadata": {},
   "outputs": [
    {
     "data": {
      "text/plain": [
       "array([[0, 0, 0],\n",
       "       [0, 0, 0],\n",
       "       [0, 0, 0],\n",
       "       [0, 0, 0],\n",
       "       [0, 0, 0]])"
      ]
     },
     "execution_count": 55,
     "metadata": {},
     "output_type": "execute_result"
    }
   ],
   "source": [
    "np.zeros_like(y,dtype=int)"
   ]
  },
  {
   "cell_type": "code",
   "execution_count": 56,
   "id": "872edfd0",
   "metadata": {},
   "outputs": [
    {
     "data": {
      "text/plain": [
       "array([[1., 1., 1.],\n",
       "       [1., 1., 1.],\n",
       "       [1., 1., 1.],\n",
       "       [1., 1., 1.],\n",
       "       [1., 1., 1.]])"
      ]
     },
     "execution_count": 56,
     "metadata": {},
     "output_type": "execute_result"
    }
   ],
   "source": [
    "np.empty_like(y)"
   ]
  },
  {
   "cell_type": "code",
   "execution_count": 57,
   "id": "7449d6d4",
   "metadata": {},
   "outputs": [
    {
     "data": {
      "text/plain": [
       "array([[      0,       0,       0],\n",
       "       [      0,       0,       0],\n",
       "       [      0,       0,       0],\n",
       "       [      0,    1944,       0],\n",
       "       [      0, 7077985,       0]])"
      ]
     },
     "execution_count": 57,
     "metadata": {},
     "output_type": "execute_result"
    }
   ],
   "source": [
    "np.empty_like(y,dtype=int)"
   ]
  },
  {
   "cell_type": "markdown",
   "id": "dc731bdc",
   "metadata": {},
   "source": [
    "## typecasting in numpy"
   ]
  },
  {
   "cell_type": "code",
   "execution_count": 58,
   "id": "e81895d0",
   "metadata": {},
   "outputs": [
    {
     "data": {
      "text/plain": [
       "array([0, 1, 2, 3, 4, 5, 6, 7, 8, 9])"
      ]
     },
     "execution_count": 58,
     "metadata": {},
     "output_type": "execute_result"
    }
   ],
   "source": [
    "np.arange(10)"
   ]
  },
  {
   "cell_type": "code",
   "execution_count": 59,
   "id": "109de360",
   "metadata": {},
   "outputs": [
    {
     "data": {
      "text/plain": [
       "dtype('int32')"
      ]
     },
     "execution_count": 59,
     "metadata": {},
     "output_type": "execute_result"
    }
   ],
   "source": [
    "np.arange(10).dtype"
   ]
  },
  {
   "cell_type": "code",
   "execution_count": 60,
   "id": "7fc7781f",
   "metadata": {},
   "outputs": [
    {
     "data": {
      "text/plain": [
       "dtype('float64')"
      ]
     },
     "execution_count": 60,
     "metadata": {},
     "output_type": "execute_result"
    }
   ],
   "source": [
    "np.arange(10,dtype=float).dtype"
   ]
  },
  {
   "cell_type": "code",
   "execution_count": 61,
   "id": "04ec7e0c",
   "metadata": {},
   "outputs": [],
   "source": [
    "# 8 bit = 1 byte \n",
    "# 32 bit = 4 bytes\n",
    "# 64 bit = 8 bytes"
   ]
  },
  {
   "cell_type": "code",
   "execution_count": 62,
   "id": "328d4962",
   "metadata": {},
   "outputs": [
    {
     "data": {
      "text/plain": [
       "array([0, 1, 2, 3, 4, 5, 6, 7, 8, 9])"
      ]
     },
     "execution_count": 62,
     "metadata": {},
     "output_type": "execute_result"
    }
   ],
   "source": [
    "np.arange(10,dtype=int)"
   ]
  },
  {
   "cell_type": "code",
   "execution_count": 63,
   "id": "7a61f5c1",
   "metadata": {},
   "outputs": [
    {
     "data": {
      "text/plain": [
       "array([0., 1., 2., 3., 4., 5., 6., 7., 8., 9.])"
      ]
     },
     "execution_count": 63,
     "metadata": {},
     "output_type": "execute_result"
    }
   ],
   "source": [
    "np.arange(10,dtype=float)"
   ]
  },
  {
   "cell_type": "code",
   "execution_count": 64,
   "id": "f58c7417",
   "metadata": {},
   "outputs": [
    {
     "data": {
      "text/plain": [
       "array([0., 1., 2., 3., 4., 5., 6., 7., 8., 9.], dtype=float16)"
      ]
     },
     "execution_count": 64,
     "metadata": {},
     "output_type": "execute_result"
    }
   ],
   "source": [
    "np.arange(10, dtype='float16') # in bits"
   ]
  },
  {
   "cell_type": "code",
   "execution_count": 65,
   "id": "15977c38",
   "metadata": {},
   "outputs": [
    {
     "data": {
      "text/plain": [
       "array([ 0.,  1.,  2.,  3.,  4.,  5.,  6.,  7.,  8.,  9., 10., 11., 12.,\n",
       "       13., 14., 15., 16., 17., 18., 19.], dtype=float32)"
      ]
     },
     "execution_count": 65,
     "metadata": {},
     "output_type": "execute_result"
    }
   ],
   "source": [
    "np.arange(20, dtype='f') # f for float 32"
   ]
  },
  {
   "cell_type": "code",
   "execution_count": 66,
   "id": "e673637f",
   "metadata": {},
   "outputs": [
    {
     "data": {
      "text/plain": [
       "array([ 0.,  1.,  2.,  3.,  4.,  5.,  6.,  7.,  8.,  9., 10., 11., 12.,\n",
       "       13., 14., 15., 16., 17., 18., 19.], dtype=float32)"
      ]
     },
     "execution_count": 66,
     "metadata": {},
     "output_type": "execute_result"
    }
   ],
   "source": [
    "np.arange(20, dtype='f4')"
   ]
  },
  {
   "cell_type": "code",
   "execution_count": 67,
   "id": "487d59e0",
   "metadata": {},
   "outputs": [
    {
     "data": {
      "text/plain": [
       "array([ 0.,  1.,  2.,  3.,  4.,  5.,  6.,  7.,  8.,  9., 10., 11., 12.,\n",
       "       13., 14., 15., 16., 17., 18., 19.])"
      ]
     },
     "execution_count": 67,
     "metadata": {},
     "output_type": "execute_result"
    }
   ],
   "source": [
    "np.arange(20, dtype='f8')"
   ]
  },
  {
   "cell_type": "code",
   "execution_count": 68,
   "id": "a2b5cdf8",
   "metadata": {},
   "outputs": [
    {
     "data": {
      "text/plain": [
       "array([ 0,  1,  2,  3,  4,  5,  6,  7,  8,  9, 10, 11, 12, 13, 14, 15, 16,\n",
       "       17, 18, 19])"
      ]
     },
     "execution_count": 68,
     "metadata": {},
     "output_type": "execute_result"
    }
   ],
   "source": [
    "np.arange(20, dtype='i4') # i4 means integer32bits "
   ]
  },
  {
   "cell_type": "code",
   "execution_count": 69,
   "id": "af330c77",
   "metadata": {},
   "outputs": [
    {
     "data": {
      "text/plain": [
       "array([ 0,  1,  2,  3,  4,  5,  6,  7,  8,  9, 10, 11, 12, 13, 14, 15, 16,\n",
       "       17, 18, 19], dtype=int64)"
      ]
     },
     "execution_count": 69,
     "metadata": {},
     "output_type": "execute_result"
    }
   ],
   "source": [
    "np.arange(20, dtype='int64')"
   ]
  },
  {
   "cell_type": "code",
   "execution_count": 70,
   "id": "5c1659d4",
   "metadata": {},
   "outputs": [
    {
     "data": {
      "text/plain": [
       "array([ 0,  1,  2,  3,  4,  5,  6,  7,  8,  9, 10, 11, 12, 13, 14, 15, 16,\n",
       "       17, 18, 19])"
      ]
     },
     "execution_count": 70,
     "metadata": {},
     "output_type": "execute_result"
    }
   ],
   "source": [
    "np.arange(20, dtype='int32')"
   ]
  },
  {
   "cell_type": "code",
   "execution_count": 80,
   "id": "31f8bb31",
   "metadata": {},
   "outputs": [
    {
     "data": {
      "text/plain": [
       "array([ 0,  1,  2,  3,  4,  5,  6,  7,  8,  9, 10, 11, 12, 13, 14, 15, 16,\n",
       "       17, 18, 19], dtype=int64)"
      ]
     },
     "execution_count": 80,
     "metadata": {},
     "output_type": "execute_result"
    }
   ],
   "source": [
    "np.arange(20, dtype='int64')"
   ]
  },
  {
   "cell_type": "code",
   "execution_count": 81,
   "id": "ce25c80a",
   "metadata": {},
   "outputs": [
    {
     "data": {
      "text/plain": [
       "array([ 0,  1,  2,  3,  4,  5,  6,  7,  8,  9, 10, 11, 12, 13, 14, 15, 16,\n",
       "       17, 18, 19], dtype=int64)"
      ]
     },
     "execution_count": 81,
     "metadata": {},
     "output_type": "execute_result"
    }
   ],
   "source": [
    "np.arange(20, dtype='i8')"
   ]
  },
  {
   "cell_type": "markdown",
   "id": "4a55fc16",
   "metadata": {},
   "source": [
    "## after creation of an array if we want to typecast it then?"
   ]
  },
  {
   "cell_type": "code",
   "execution_count": 82,
   "id": "0693e426",
   "metadata": {},
   "outputs": [],
   "source": [
    "s = np.arange(20)"
   ]
  },
  {
   "cell_type": "code",
   "execution_count": 83,
   "id": "9e5e0b6a",
   "metadata": {},
   "outputs": [
    {
     "data": {
      "text/plain": [
       "array([ 0,  1,  2,  3,  4,  5,  6,  7,  8,  9, 10, 11, 12, 13, 14, 15, 16,\n",
       "       17, 18, 19])"
      ]
     },
     "execution_count": 83,
     "metadata": {},
     "output_type": "execute_result"
    }
   ],
   "source": [
    "s"
   ]
  },
  {
   "cell_type": "code",
   "execution_count": 84,
   "id": "b5991ffe",
   "metadata": {},
   "outputs": [
    {
     "data": {
      "text/plain": [
       "dtype('int32')"
      ]
     },
     "execution_count": 84,
     "metadata": {},
     "output_type": "execute_result"
    }
   ],
   "source": [
    "s.dtype"
   ]
  },
  {
   "cell_type": "markdown",
   "id": "c877197b",
   "metadata": {},
   "source": [
    "### use astype()"
   ]
  },
  {
   "cell_type": "code",
   "execution_count": 85,
   "id": "e018850a",
   "metadata": {},
   "outputs": [
    {
     "data": {
      "text/plain": [
       "array([ 0,  1,  2,  3,  4,  5,  6,  7,  8,  9, 10, 11, 12, 13, 14, 15, 16,\n",
       "       17, 18, 19], dtype=int64)"
      ]
     },
     "execution_count": 85,
     "metadata": {},
     "output_type": "execute_result"
    }
   ],
   "source": [
    "s.astype('i8')"
   ]
  },
  {
   "cell_type": "code",
   "execution_count": null,
   "id": "2cf3d76b",
   "metadata": {},
   "outputs": [],
   "source": []
  }
 ],
 "metadata": {
  "kernelspec": {
   "display_name": "Python 3 (ipykernel)",
   "language": "python",
   "name": "python3"
  },
  "language_info": {
   "codemirror_mode": {
    "name": "ipython",
    "version": 3
   },
   "file_extension": ".py",
   "mimetype": "text/x-python",
   "name": "python",
   "nbconvert_exporter": "python",
   "pygments_lexer": "ipython3",
   "version": "3.9.13"
  }
 },
 "nbformat": 4,
 "nbformat_minor": 5
}
